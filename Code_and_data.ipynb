{
  "nbformat": 4,
  "nbformat_minor": 0,
  "metadata": {
    "colab": {
      "provenance": [],
      "gpuType": "L4",
      "authorship_tag": "ABX9TyPM4j0JzhE0bzG/p/mjPgqi",
      "include_colab_link": true
    },
    "kernelspec": {
      "name": "python3",
      "display_name": "Python 3"
    },
    "language_info": {
      "name": "python"
    },
    "accelerator": "GPU"
  },
  "cells": [
    {
      "cell_type": "markdown",
      "metadata": {
        "id": "view-in-github",
        "colab_type": "text"
      },
      "source": [
        "<a href=\"https://colab.research.google.com/github/HalilHuseyinCaliskan/HalilHuseyinCaliskan/blob/main/Code_and_data.ipynb\" target=\"_parent\"><img src=\"https://colab.research.google.com/assets/colab-badge.svg\" alt=\"Open In Colab\"/></a>"
      ]
    },
    {
      "cell_type": "code",
      "source": [
        "!pip install ultralytics -U"
      ],
      "metadata": {
        "id": "16wxBfGkux9P"
      },
      "execution_count": null,
      "outputs": []
    },
    {
      "cell_type": "code",
      "source": [
        "from google.colab import drive\n",
        "drive.mount('/content/drive/MyDrive/kaynaklar')"
      ],
      "metadata": {
        "id": "7n1XJxj579OO"
      },
      "execution_count": null,
      "outputs": []
    },
    {
      "cell_type": "code",
      "source": [
        "### Normal(Rakip) Tespit Modelinin Kodları"
      ],
      "metadata": {
        "id": "b7UnNQyZ4H2-"
      },
      "execution_count": null,
      "outputs": []
    },
    {
      "cell_type": "code",
      "source": [
        "from ultralytics import YOLO\n",
        "import cv2, torch, time\n",
        "cap = cv2.VideoCapture(\"/content/drive/MyDrive/kaynaklar/f22.mp4\")\n",
        "model = YOLO(\"/content/drive/MyDrive/kaynaklar/hızlı2.pt\")\n",
        "while True:\n",
        "    ret, frame = cap.read()\n",
        "    t = time.time()\n",
        "    frame = cv2.resize(frame, (1920, 840))\n",
        "    results = model(frame)[0]\n",
        "    boxes = results.boxes\n",
        "    for box in boxes:\n",
        "        x1, y1, x2, y2 = map(int, box.xyxy[0])\n",
        "        cv2.rectangle(frame, (x1, y1), (x2, y2), (0, 0, 0), 1)\n",
        "    torch.cuda.empty_cache()\n",
        "    t2 = time.time()\n",
        "    fps = 1 / (t2 - t)\n",
        "    print(f\"FPS: {fps:.2f}\")\n",
        "    listem=[]\n",
        "    listem.append(fps)\n",
        "    print(sum(listem)/len(listem))\n",
        "    #cv2.imshow(\"frame\", frame)\n",
        "    if cv2.waitKey(1) & 0xFF == ord(\"s\"):\n",
        "        break\n",
        "cap.release()\n",
        "cv2.destroyAllWindows()"
      ],
      "metadata": {
        "id": "Wr1wh_aYunn6"
      },
      "execution_count": null,
      "outputs": []
    },
    {
      "cell_type": "code",
      "source": [
        "### Makine Öğrenmesi Destekli Tespit Modelimin Kodları"
      ],
      "metadata": {
        "id": "1CUo3L23wYAc"
      },
      "execution_count": null,
      "outputs": []
    },
    {
      "cell_type": "code",
      "source": [
        "import pandas as pd\n",
        "import numpy as np\n",
        "import cv2, time,torch\n",
        "from ultralytics import YOLO\n",
        "\n",
        "dataset = pd.read_csv(\"/content/drive/MyDrive/kaynaklar/listeler.csv\")\n",
        "dataset2 = pd.read_csv(\"/content/drive/MyDrive/kaynaklar/listeler2.csv\")\n",
        "dataset3 = pd.read_csv(\"/content/drive/MyDrive/kaynaklar/listeler3.csv\")\n",
        "dataset4 = pd.read_csv(\"/content/drive/MyDrive/kaynaklar/listeler4.csv\")\n",
        "\n",
        "X = dataset.iloc[:, :-1].values\n",
        "y = dataset.iloc[:, -1].values\n",
        "X2 = dataset2.iloc[:, :-1].values\n",
        "y2 = dataset2.iloc[:, -1].values\n",
        "X3 = dataset3.iloc[:, :-1].values\n",
        "y3 = dataset3.iloc[:, -1].values\n",
        "X4 = dataset4.iloc[:, :-1].values\n",
        "y4 = dataset4.iloc[:, -1].values\n",
        "\n",
        "from sklearn.model_selection import train_test_split\n",
        "X_train, X_test, y_train, y_test = train_test_split(X, y, test_size=0.2, random_state=1)\n",
        "X_train2, X_test2, y_train2, y_test2 = train_test_split(X2, y2, test_size=0.2, random_state=1)\n",
        "X_train3, X_test3, y_train3, y_test3 = train_test_split(X3, y3, test_size=0.2, random_state=1)\n",
        "X_train4, X_test4, y_train4, y_test4 = train_test_split(X4, y4, test_size=0.2, random_state=1)\n",
        "\n",
        "from sklearn.ensemble import RandomForestRegressor\n",
        "from sklearn.metrics import r2_score\n",
        "import numpy as np\n",
        "\n",
        "regressor = RandomForestRegressor(n_estimators=10, random_state=42)\n",
        "regressor2 = RandomForestRegressor(n_estimators=10, random_state=42)\n",
        "regressor3 = RandomForestRegressor(n_estimators=10, random_state=42)\n",
        "regressor4 = RandomForestRegressor(n_estimators=10, random_state=42)\n",
        "\n",
        "regressor.fit(X_train, y_train)\n",
        "regressor2.fit(X_train2, y_train2)\n",
        "regressor3.fit(X_train3, y_train3)\n",
        "regressor4.fit(X_train4, y_train4)\n",
        "\n",
        "y_pred = regressor.predict(X_test)\n",
        "y_pred2 = regressor2.predict(X_test2)\n",
        "y_pred3 = regressor3.predict(X_test3)\n",
        "y_pred4 = regressor4.predict(X_test4)\n",
        "\n",
        "CompareRandomForest = np.concatenate((y_pred.reshape(len(y_pred), 1), y_test.reshape(len(y_test), 1)), 1)\n",
        "\n",
        "R2ScoreRF = r2_score(y_test, y_pred)\n",
        "R2ScoreRF2 = r2_score(y_test2, y_pred2)\n",
        "R2ScoreRF3 = r2_score(y_test3, y_pred3)\n",
        "R2ScoreRF4 = r2_score(y_test4, y_pred4)\n",
        "\n",
        "print(R2ScoreRF, R2ScoreRF2, R2ScoreRF3, R2ScoreRF4)\n",
        "\n",
        "\n",
        "class A:\n",
        "    def __init__(self):\n",
        "        self.result = None\n",
        "        self.boxes = None\n",
        "\n",
        "    def fonk(self):\n",
        "        cap = cv2.VideoCapture(\"/content/drive/MyDrive/kaynaklar/f22.mp4\")\n",
        "        model = YOLO(\"/content/drive/MyDrive/kaynaklar/hızlı2.pt\")\n",
        "        liste, liste2, liste3, liste4 = [], [], [], []\n",
        "        frame_count = 0\n",
        "        min_history = 4\n",
        "\n",
        "        while cap.isOpened():\n",
        "            ret, frame = cap.read()\n",
        "            t1 = time.time()\n",
        "            frame = cv2.resize(frame, (1920, 840))\n",
        "            if frame_count % 4 == 0:\n",
        "                self.result = model(frame)[0]\n",
        "                self.boxes = self.result.boxes\n",
        "                for box in self.boxes:\n",
        "                    x1, y1, x2, y2 = map(int, box.xyxy[0])\n",
        "                    liste.append(x1)\n",
        "                    liste2.append(x2)\n",
        "                    liste3.append(y1)\n",
        "                    liste4.append(y2)\n",
        "            else:\n",
        "                if len(liste) >= min_history:\n",
        "\n",
        "                        x1 = regressor.predict([[liste[-4], liste[-3], liste[-2], liste[-1]]])\n",
        "                        x2 = regressor2.predict([[liste2[-4], liste2[-3], liste2[-2], liste2[-1]]])\n",
        "                        y1 = regressor3.predict([[liste3[-4], liste3[-3], liste3[-2], liste3[-1]]])\n",
        "                        y2 = regressor4.predict([[liste4[-4], liste4[-3], liste4[-2], liste4[-1]]])\n",
        "                        x1, y1 = int(x1[0]), int(y1[0])\n",
        "                        x2, y2 = int(x2[0]), int(y2[0])\n",
        "                        liste.append(x1)\n",
        "                        #liste.pop(0)\n",
        "                        liste2.append(x2)\n",
        "                        #liste2.pop(0)\n",
        "                        liste3.append(y1)\n",
        "                        #liste3.pop(0)\n",
        "                        liste4.append(y2)\n",
        "                        #liste4.pop(0)\n",
        "                        print(x1,y1)\n",
        "                        cv2.rectangle(frame, (x1, y1), (x2, y2), (255, 0, 0), 5)\n",
        "\n",
        "            torch.cuda.empty_cache()\n",
        "            frame_count += 1\n",
        "            t2 = time.time()\n",
        "            listem=[]\n",
        "            listem.append(1 / (t2 - t1))\n",
        "            print(sum(listem) / len(listem))\n",
        "            #cv2.imshow(\"frame\", frame)\n",
        "            if cv2.waitKey(1) & 0xFF == ord(\"q\"):\n",
        "                break\n",
        "        cap.release()\n",
        "        cv2.destroyAllWindows()\n",
        "\n",
        "nesne = A()\n",
        "nesne.fonk()\n"
      ],
      "metadata": {
        "id": "xB_H9YpNwdrl"
      },
      "execution_count": null,
      "outputs": []
    },
    {
      "cell_type": "code",
      "source": [
        "### Piksel Tabanlı Analiz Yapıp Görüntü Sınıflandıran Makine Öğrenmesi Modelim"
      ],
      "metadata": {
        "id": "cdR2rBzTxYsr"
      },
      "execution_count": null,
      "outputs": []
    },
    {
      "cell_type": "code",
      "source": [
        "from ultralytics import YOLO\n",
        "import cv2,time\n",
        "import numpy as np\n",
        "import csv\n",
        "import pandas as pd\n",
        "import warnings\n",
        "from sklearn.exceptions import ConvergenceWarning\n",
        "warnings.filterwarnings('ignore', category=ConvergenceWarning)\n",
        "dataset = pd.read_csv(\"/content/drive/MyDrive/kaynaklar/merged_yeni.csv\")\n",
        "dataset=dataset[2:]\n",
        "print(dataset.head)\n",
        "X = dataset.iloc[:,:-1].values\n",
        "y = dataset.iloc[:,-1].values\n",
        "print(len(X[0]))\n",
        "from sklearn.model_selection import train_test_split\n",
        "X_train, X_test, y_train, y_test = train_test_split(X, y,test_size=0.1,random_state=45)\n",
        "print(X_train)\n",
        "from sklearn.preprocessing import StandardScaler\n",
        "ss = StandardScaler()\n",
        "X_train = ss.fit_transform(X_train)\n",
        "X_test = ss.transform(X_test)\n",
        "from sklearn.decomposition import PCA\n",
        "pca = PCA(n_components=128)\n",
        "X_train = pca.fit_transform(X_train)\n",
        "X_test = pca.transform(X_test)\n",
        "from sklearn.linear_model import LogisticRegression\n",
        "classifier = LogisticRegression(random_state=0,max_iter=1000)\n",
        "classifier.fit(X_train, y_train)\n",
        "y_pred = classifier.predict(X_test)\n",
        "from sklearn.metrics import accuracy_score\n",
        "AccuracyScore = accuracy_score(y_test,y_pred)\n",
        "print(AccuracyScore)\n",
        "class A:\n",
        "    def __init__(self):\n",
        "        self.alan=0\n",
        "        self.max=0\n",
        "        pass\n",
        "    def fonk(self):\n",
        "     cap = cv2.VideoCapture(\"/content/drive/MyDrive/kaynaklar/f22.mp4\")\n",
        "     model = YOLO(\"/content/drive/MyDrive/kaynaklar/hızlı2.pt\")\n",
        "     liste=[]\n",
        "     liste2=[]\n",
        "     while True:\n",
        "      ret, frame = cap.read()\n",
        "      frame=cv2.resize(frame,(640,640))\n",
        "      results = model(frame)[0]\n",
        "      boxes = results.boxes\n",
        "      for box in boxes:\n",
        "        x1, y1, x2, y2 = map(int, box.xyxy[0])\n",
        "        frame2=frame[y1:y2,x1:x2]\n",
        "        frame3=frame2.copy()\n",
        "        frame2=cv2.cvtColor(frame2,cv2.COLOR_BGR2GRAY)\n",
        "        frame2 = cv2.bilateralFilter(frame2, 9, 75, 75)\n",
        "        frame2=cv2.Canny(frame2,10,50)\n",
        "        _,frame2=cv2.threshold(frame2,125,255,cv2.THRESH_BINARY)\n",
        "        kernel = np.ones((3, 3), np.uint8)\n",
        "        frame2 = cv2.dilate(frame2, kernel, iterations=1)\n",
        "        frame2=cv2.resize(frame2,(16,16))\n",
        "        liste=[]\n",
        "        for i in range(len(frame2)):\n",
        "            for j in range(len(frame2[0])):\n",
        "                liste.append(frame2[i][j])\n",
        "        listem = np.array(liste).reshape(1, -1)\n",
        "        listem=pca.transform(listem)\n",
        "        #print(listem)\n",
        "        zaman=time.time()\n",
        "        a=classifier.predict(listem)\n",
        "        zaman2=time.time()\n",
        "        print(zaman2-zaman)\n",
        "fonksiyon=A()\n",
        "fonksiyon.fonk()"
      ],
      "metadata": {
        "id": "pZkh730ZxjMy"
      },
      "execution_count": null,
      "outputs": []
    },
    {
      "cell_type": "code",
      "source": [
        "### Klasik Yapay Sinir Ağı Tabanlı Görüntü Sınıflandırma Modeli"
      ],
      "metadata": {
        "id": "td5ASoP9yVWY"
      },
      "execution_count": null,
      "outputs": []
    },
    {
      "cell_type": "code",
      "source": [
        "!pip install tensorflow\n",
        "!pip install keras"
      ],
      "metadata": {
        "id": "VxAWosFIzMQ8"
      },
      "execution_count": null,
      "outputs": []
    },
    {
      "cell_type": "code",
      "source": [
        "import numpy as np\n",
        "import tensorflow as tf\n",
        "from keras.models import Sequential\n",
        "from keras.layers import Dense, Flatten\n",
        "from keras.utils import to_categorical\n",
        "from sklearn.model_selection import train_test_split\n",
        "from sklearn.metrics import accuracy_score\n",
        "from keras.models import load_model\n",
        "import cv2,time\n",
        "\n",
        "model = load_model('/content/drive/MyDrive/kaynaklar/normal.h5')\n",
        "cap = cv2.VideoCapture(\"/content/drive/MyDrive/kaynaklar/f22.mp4\")\n",
        "while True:\n",
        "\n",
        "    ret, frame = cap.read()\n",
        "    gray_frame = cv2.cvtColor(frame, cv2.COLOR_BGR2GRAY)\n",
        "    resized_frame = cv2.resize(gray_frame, (16, 16))\n",
        "    resized_frame_flattened = resized_frame.reshape(1, -1)\n",
        "    start_time = time.time()\n",
        "    prediction = model.predict(resized_frame_flattened)\n",
        "    end_time = time.time()\n",
        "    prediction_time = end_time - start_time\n",
        "    print(prediction_time)\n",
        "\n",
        "cap.release()\n",
        "cv2.destroyAllWindows()"
      ],
      "metadata": {
        "id": "hO7IBVF8ybpT"
      },
      "execution_count": null,
      "outputs": []
    }
  ]
}